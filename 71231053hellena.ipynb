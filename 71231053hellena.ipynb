{
  "nbformat": 4,
  "nbformat_minor": 0,
  "metadata": {
    "colab": {
      "provenance": []
    },
    "kernelspec": {
      "name": "python3",
      "display_name": "Python 3"
    },
    "language_info": {
      "name": "python"
    }
  },
  "cells": [
    {
      "cell_type": "markdown",
      "source": [
        "soal 1"
      ],
      "metadata": {
        "id": "2sGYxmXc6ykP"
      }
    },
    {
      "cell_type": "code",
      "source": [
        "berat_badan = int(input(\"Masukkan berat badan dalam kg: \"))\n",
        "tinggi_badan = float(input(\"Masukkan tinggi badan dalam meter: \"))\n",
        "rumus_bmi = berat_badan / (tinggi_badan * tinggi_badan)\n",
        "print(\"BMI anda adalah: \", round(rumus_bmi))"
      ],
      "metadata": {
        "colab": {
          "base_uri": "https://localhost:8080/"
        },
        "id": "eRYqEV-H67vY",
        "outputId": "5fb5b6d9-b29e-4d2a-8093-d1f7f5f18b32"
      },
      "execution_count": 4,
      "outputs": [
        {
          "output_type": "stream",
          "name": "stdout",
          "text": [
            "Masukkan berat badan dalam kg: 50\n",
            "Masukkan tinggi badan dalam meter: 175\n",
            "BMI anda adalah:  0\n"
          ]
        }
      ]
    },
    {
      "cell_type": "markdown",
      "source": [
        "soal 2"
      ],
      "metadata": {
        "id": "98buCVL27Kxo"
      }
    },
    {
      "cell_type": "code",
      "source": [
        "x = int(input(\"Masukkan x: \"))\n",
        "fungsi = (2 * x ** 3) + (2 * x) + (15 / x)\n",
        "print(\"Hasil dari fungsi adalah: \", round(fungsi_x))"
      ],
      "metadata": {
        "id": "1jTKYvim7NhG"
      },
      "execution_count": null,
      "outputs": []
    },
    {
      "cell_type": "markdown",
      "source": [
        "soal 3"
      ],
      "metadata": {
        "id": "WYgH1Ah77c1P"
      }
    },
    {
      "cell_type": "code",
      "source": [
        "gaji_per_jam = int(input(\"Masukkan gaji perjam yang dihasilkan: \"))\n",
        "durasi_kerja = int(input(\"Masukkan durasi kerja: \"))\n",
        "gaji_sebelum_pajak = (durasi_kerja * 5) * gaji_per_jam\n",
        "print(\"Gaji sebelum pajak: \", gaji_sebelum_pajak)\n",
        "\n",
        "nilai_pajak = gaji_sebelum_pajak * 0.14\n",
        "gaji_bersih = gaji_sebelum_pajak - nilai_pajak\n",
        "print(\"Gaji bersih: \", round(gaji_bersih))\n",
        "\n",
        "belanja_barang1 = gaji_bersih * 0.1\n",
        "sisa_uang1 = gaji_bersih - belanja_barang1\n",
        "print(\"Total uang yang dipakai untuk belanja barang1: Rp.\", round (belanja_barang1))\n",
        "print(\"Sisa uang dari belanja Budi1: Rp.\", round (sisa_uang1))\n",
        "\n",
        "belanja_barang2 = gaji_bersih * 0.1\n",
        "sisa_uang2 = gaji_bersih - belanja_barang2\n",
        "print(\"Total uang yang dipakai untuk belanja barang2: Rp.\", round (belanja_barang2))\n",
        "print(\"Sisa uang dari belanja Budi2: Rp.\", round(belanja_barang2))\n",
        "\n",
        "jumlah_sedekah = sisa_uang2 * 0.25\n",
        "sisa_uang3 = sisa_uang2 - jumlah_sedekah\n",
        "print(\"Jumlah sedekah Budi: \", round(jumlah_sedekah))\n",
        "print(\"Sisa uang setelah berikan sedekah: \", round(sisa_uang3))\n",
        "\n",
        "per_seribu = jumlah_sedekah\n",
        "while per_seribu % 1000 == 0 and per_seribu >= 1000 or per_seribu % 1000 != 0 and per_seribu >= 1000:\n",
        "    per_seribu -= 1000\n",
        "\n",
        "    sedekah_yatim = (jumlah_sedekah - per_seribu) * 0.3\n",
        "    sedekah_duafa = (jumlah_sedekah - per_seribu) * 0.7\n",
        "\n",
        "    print(\"Total sedekah yatim: \", round(sedekah_yatim))\n",
        "    print(\"Total sedekah duafa: \", round(sedekah_duafa))\n",
        "\n"
      ],
      "metadata": {
        "id": "i1s6XDAc7ffW"
      },
      "execution_count": null,
      "outputs": []
    }
  ]
}